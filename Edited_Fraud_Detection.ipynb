{
 "cells": [
  {
   "cell_type": "markdown",
   "id": "8e5e2bc0",
   "metadata": {},
   "source": [
    "This code imports libraries for data manipulation, visualization, and machine learning. Numpy is used for numerical computations and array manipulation. Pandas is used for data manipulation and analysis. Seaborn and matplotlib are used for creating plots and charts. The sklearn library is used for machine learning, including evaluating models and training ensemble models like Isolation Forest."
   ]
  },
  {
   "cell_type": "code",
   "execution_count": 1,
   "id": "fdae220f",
   "metadata": {},
   "outputs": [],
   "source": [
    "import numpy as np\n",
    "import pandas as pd\n",
    "import seaborn as sns\n",
    "import matplotlib.pyplot as plt\n",
    "from sklearn.metrics import classification_report, accuracy_score\n",
    "from sklearn.ensemble import IsolationForest"
   ]
  },
  {
   "cell_type": "markdown",
   "id": "e6099957",
   "metadata": {},
   "source": [
    "Isolation Forest, also known as iForest, is an unsupervised machine learning algorithm used for anomaly detection. It is an ensemble method that combines multiple decision trees to identify observations that are different from the majority of the data, also known as outliers or anomalies.\n",
    "The algorithm works by randomly selecting a feature and a random split value and repeatedly splitting the data into subsets, until all the observations are isolated.One of the main advantages of Isolation Forest for fraud detection is its ability to handle high-dimensional data. Credit card transactions, for example, can have a large number of features such as purchase amount, location, time of purchase, etc. Isolation Forest can handle high-dimensional data efficiently and identify abnormal observations regardless of the number of features."
   ]
  },
  {
   "cell_type": "markdown",
   "id": "56310f01",
   "metadata": {},
   "source": [
    "This line of code is using the read_csv function from the pandas library to read in a csv file named 'creditcard.csv' and store it in a variable called 'data'. The read_csv function reads in the csv file and converts it into a pandas dataframe, which is a tabular data structure with rows and columns."
   ]
  },
  {
   "cell_type": "code",
   "execution_count": 2,
   "id": "39500001",
   "metadata": {},
   "outputs": [],
   "source": [
    "data = pd.read_csv('creditcard.csv')"
   ]
  },
  {
   "cell_type": "markdown",
   "id": "4ea304f7",
   "metadata": {},
   "source": [
    " This line of code is calling the shape attribute on the 'data' variable, which is a pandas DataFrame. This attribute returns a tuple representing the dimensions of the DataFrame, (number of rows, number of columns). The number of rows represents the number of observations or instances in the data, while the number of columns represents the number of features or variables in the data. data is of shape (284807,31) which implies 284807 cases and 31 columns."
   ]
  },
  {
   "cell_type": "code",
   "execution_count": 3,
   "id": "6fa5f99c",
   "metadata": {},
   "outputs": [
    {
     "data": {
      "text/plain": [
       "(284807, 31)"
      ]
     },
     "execution_count": 3,
     "metadata": {},
     "output_type": "execute_result"
    }
   ],
   "source": [
    "data.shape # Prints the shape of ‘data’ "
   ]
  },
  {
   "cell_type": "markdown",
   "id": "1e7f6726",
   "metadata": {},
   "source": [
    "This data frame is enormous. It costs a lot to compute. As a result, by removing rows, the data frame is downsampled to one-tenth of its original size. Large data samples are required for model training, which improves outcomes but requires more time and computer resources."
   ]
  },
  {
   "cell_type": "code",
   "execution_count": 4,
   "id": "22c0acd1",
   "metadata": {},
   "outputs": [
    {
     "data": {
      "text/plain": [
       "0    284315\n",
       "1       492\n",
       "Name: Class, dtype: int64"
      ]
     },
     "execution_count": 4,
     "metadata": {},
     "output_type": "execute_result"
    }
   ],
   "source": [
    "data['Class'].value_counts()"
   ]
  },
  {
   "cell_type": "code",
   "execution_count": 5,
   "id": "fb964923",
   "metadata": {},
   "outputs": [
    {
     "data": {
      "text/plain": [
       "0.0017304750013189597"
      ]
     },
     "execution_count": 5,
     "metadata": {},
     "output_type": "execute_result"
    }
   ],
   "source": [
    "492/284315"
   ]
  },
  {
   "cell_type": "markdown",
   "id": "b28f0577",
   "metadata": {},
   "source": [
    "this line of code is using the sample() function on the 'data' variable, which is a pandas DataFrame. It is used to randomly sample a fraction of the dataframe.\n",
    "The sample() function takes a parameter 'frac' which is the fraction of the dataframe that\n",
    "you want to select. In this case, the value passed is 0.1, so the function will randomly select 10% of the rows from the original dataframe and return a new dataframe with only those rows. This can be useful for reducing the size of the data and working with a smaller subset when the original dataset is too large to work with efficiently. "
   ]
  },
  {
   "cell_type": "code",
   "execution_count": 6,
   "id": "30adde10",
   "metadata": {},
   "outputs": [],
   "source": [
    "#data = data.sample(frac=0.1) # Size of data is reduced"
   ]
  },
  {
   "cell_type": "markdown",
   "id": "93356cca",
   "metadata": {},
   "source": [
    "This statement is describing the columns in the 'creditcard.csv' dataset. The dataset contains information about credit card transactions, including the duration of the transaction (column \"Time\"), the value of the transaction (column \"Amount\"), and whether or not the transaction was fraudulent (column \"Class\"). Additionally, there are additional columns labeled \"V1\" through \"V28\" which contain reduced transaction information, this information is used to protect users' confidential information.\n",
    "\n",
    "To achieve this, the dataset uses a technique called Principal Component Analysis (PCA). PCA is a statistical method that is used to reduce the dimensionality of data by identifying patterns in the data and projecting the data onto a lower dimensional space while minimizing information loss. By reducing the dimensionality of the data, PCA makes it possible to protect users' confidential information while preserving the important features of the data that are needed for analysis."
   ]
  },
  {
   "cell_type": "code",
   "execution_count": 7,
   "id": "e713f26a",
   "metadata": {},
   "outputs": [
    {
     "data": {
      "text/plain": [
       "Index(['Time', 'V1', 'V2', 'V3', 'V4', 'V5', 'V6', 'V7', 'V8', 'V9', 'V10',\n",
       "       'V11', 'V12', 'V13', 'V14', 'V15', 'V16', 'V17', 'V18', 'V19', 'V20',\n",
       "       'V21', 'V22', 'V23', 'V24', 'V25', 'V26', 'V27', 'V28', 'Amount',\n",
       "       'Class'],\n",
       "      dtype='object')"
      ]
     },
     "execution_count": 7,
     "metadata": {},
     "output_type": "execute_result"
    }
   ],
   "source": [
    "data.columns # Prints columns of data "
   ]
  },
  {
   "cell_type": "code",
   "execution_count": 8,
   "id": "bd9f62c6",
   "metadata": {
    "scrolled": true
   },
   "outputs": [
    {
     "data": {
      "text/html": [
       "<div>\n",
       "<style scoped>\n",
       "    .dataframe tbody tr th:only-of-type {\n",
       "        vertical-align: middle;\n",
       "    }\n",
       "\n",
       "    .dataframe tbody tr th {\n",
       "        vertical-align: top;\n",
       "    }\n",
       "\n",
       "    .dataframe thead th {\n",
       "        text-align: right;\n",
       "    }\n",
       "</style>\n",
       "<table border=\"1\" class=\"dataframe\">\n",
       "  <thead>\n",
       "    <tr style=\"text-align: right;\">\n",
       "      <th></th>\n",
       "      <th>Time</th>\n",
       "      <th>V1</th>\n",
       "      <th>V2</th>\n",
       "      <th>V3</th>\n",
       "      <th>V4</th>\n",
       "      <th>V5</th>\n",
       "      <th>V6</th>\n",
       "      <th>V7</th>\n",
       "      <th>V8</th>\n",
       "      <th>V9</th>\n",
       "      <th>...</th>\n",
       "      <th>V21</th>\n",
       "      <th>V22</th>\n",
       "      <th>V23</th>\n",
       "      <th>V24</th>\n",
       "      <th>V25</th>\n",
       "      <th>V26</th>\n",
       "      <th>V27</th>\n",
       "      <th>V28</th>\n",
       "      <th>Amount</th>\n",
       "      <th>Class</th>\n",
       "    </tr>\n",
       "  </thead>\n",
       "  <tbody>\n",
       "    <tr>\n",
       "      <th>count</th>\n",
       "      <td>284807.000000</td>\n",
       "      <td>2.848070e+05</td>\n",
       "      <td>2.848070e+05</td>\n",
       "      <td>2.848070e+05</td>\n",
       "      <td>2.848070e+05</td>\n",
       "      <td>2.848070e+05</td>\n",
       "      <td>2.848070e+05</td>\n",
       "      <td>2.848070e+05</td>\n",
       "      <td>2.848070e+05</td>\n",
       "      <td>2.848070e+05</td>\n",
       "      <td>...</td>\n",
       "      <td>2.848070e+05</td>\n",
       "      <td>2.848070e+05</td>\n",
       "      <td>2.848070e+05</td>\n",
       "      <td>2.848070e+05</td>\n",
       "      <td>2.848070e+05</td>\n",
       "      <td>2.848070e+05</td>\n",
       "      <td>2.848070e+05</td>\n",
       "      <td>2.848070e+05</td>\n",
       "      <td>284807.000000</td>\n",
       "      <td>284807.000000</td>\n",
       "    </tr>\n",
       "    <tr>\n",
       "      <th>mean</th>\n",
       "      <td>94813.859575</td>\n",
       "      <td>3.918649e-15</td>\n",
       "      <td>5.682686e-16</td>\n",
       "      <td>-8.761736e-15</td>\n",
       "      <td>2.811118e-15</td>\n",
       "      <td>-1.552103e-15</td>\n",
       "      <td>2.040130e-15</td>\n",
       "      <td>-1.698953e-15</td>\n",
       "      <td>-1.893285e-16</td>\n",
       "      <td>-3.147640e-15</td>\n",
       "      <td>...</td>\n",
       "      <td>1.473120e-16</td>\n",
       "      <td>8.042109e-16</td>\n",
       "      <td>5.282512e-16</td>\n",
       "      <td>4.456271e-15</td>\n",
       "      <td>1.426896e-15</td>\n",
       "      <td>1.701640e-15</td>\n",
       "      <td>-3.662252e-16</td>\n",
       "      <td>-1.217809e-16</td>\n",
       "      <td>88.349619</td>\n",
       "      <td>0.001727</td>\n",
       "    </tr>\n",
       "    <tr>\n",
       "      <th>std</th>\n",
       "      <td>47488.145955</td>\n",
       "      <td>1.958696e+00</td>\n",
       "      <td>1.651309e+00</td>\n",
       "      <td>1.516255e+00</td>\n",
       "      <td>1.415869e+00</td>\n",
       "      <td>1.380247e+00</td>\n",
       "      <td>1.332271e+00</td>\n",
       "      <td>1.237094e+00</td>\n",
       "      <td>1.194353e+00</td>\n",
       "      <td>1.098632e+00</td>\n",
       "      <td>...</td>\n",
       "      <td>7.345240e-01</td>\n",
       "      <td>7.257016e-01</td>\n",
       "      <td>6.244603e-01</td>\n",
       "      <td>6.056471e-01</td>\n",
       "      <td>5.212781e-01</td>\n",
       "      <td>4.822270e-01</td>\n",
       "      <td>4.036325e-01</td>\n",
       "      <td>3.300833e-01</td>\n",
       "      <td>250.120109</td>\n",
       "      <td>0.041527</td>\n",
       "    </tr>\n",
       "    <tr>\n",
       "      <th>min</th>\n",
       "      <td>0.000000</td>\n",
       "      <td>-5.640751e+01</td>\n",
       "      <td>-7.271573e+01</td>\n",
       "      <td>-4.832559e+01</td>\n",
       "      <td>-5.683171e+00</td>\n",
       "      <td>-1.137433e+02</td>\n",
       "      <td>-2.616051e+01</td>\n",
       "      <td>-4.355724e+01</td>\n",
       "      <td>-7.321672e+01</td>\n",
       "      <td>-1.343407e+01</td>\n",
       "      <td>...</td>\n",
       "      <td>-3.483038e+01</td>\n",
       "      <td>-1.093314e+01</td>\n",
       "      <td>-4.480774e+01</td>\n",
       "      <td>-2.836627e+00</td>\n",
       "      <td>-1.029540e+01</td>\n",
       "      <td>-2.604551e+00</td>\n",
       "      <td>-2.256568e+01</td>\n",
       "      <td>-1.543008e+01</td>\n",
       "      <td>0.000000</td>\n",
       "      <td>0.000000</td>\n",
       "    </tr>\n",
       "    <tr>\n",
       "      <th>25%</th>\n",
       "      <td>54201.500000</td>\n",
       "      <td>-9.203734e-01</td>\n",
       "      <td>-5.985499e-01</td>\n",
       "      <td>-8.903648e-01</td>\n",
       "      <td>-8.486401e-01</td>\n",
       "      <td>-6.915971e-01</td>\n",
       "      <td>-7.682956e-01</td>\n",
       "      <td>-5.540759e-01</td>\n",
       "      <td>-2.086297e-01</td>\n",
       "      <td>-6.430976e-01</td>\n",
       "      <td>...</td>\n",
       "      <td>-2.283949e-01</td>\n",
       "      <td>-5.423504e-01</td>\n",
       "      <td>-1.618463e-01</td>\n",
       "      <td>-3.545861e-01</td>\n",
       "      <td>-3.171451e-01</td>\n",
       "      <td>-3.269839e-01</td>\n",
       "      <td>-7.083953e-02</td>\n",
       "      <td>-5.295979e-02</td>\n",
       "      <td>5.600000</td>\n",
       "      <td>0.000000</td>\n",
       "    </tr>\n",
       "    <tr>\n",
       "      <th>50%</th>\n",
       "      <td>84692.000000</td>\n",
       "      <td>1.810880e-02</td>\n",
       "      <td>6.548556e-02</td>\n",
       "      <td>1.798463e-01</td>\n",
       "      <td>-1.984653e-02</td>\n",
       "      <td>-5.433583e-02</td>\n",
       "      <td>-2.741871e-01</td>\n",
       "      <td>4.010308e-02</td>\n",
       "      <td>2.235804e-02</td>\n",
       "      <td>-5.142873e-02</td>\n",
       "      <td>...</td>\n",
       "      <td>-2.945017e-02</td>\n",
       "      <td>6.781943e-03</td>\n",
       "      <td>-1.119293e-02</td>\n",
       "      <td>4.097606e-02</td>\n",
       "      <td>1.659350e-02</td>\n",
       "      <td>-5.213911e-02</td>\n",
       "      <td>1.342146e-03</td>\n",
       "      <td>1.124383e-02</td>\n",
       "      <td>22.000000</td>\n",
       "      <td>0.000000</td>\n",
       "    </tr>\n",
       "    <tr>\n",
       "      <th>75%</th>\n",
       "      <td>139320.500000</td>\n",
       "      <td>1.315642e+00</td>\n",
       "      <td>8.037239e-01</td>\n",
       "      <td>1.027196e+00</td>\n",
       "      <td>7.433413e-01</td>\n",
       "      <td>6.119264e-01</td>\n",
       "      <td>3.985649e-01</td>\n",
       "      <td>5.704361e-01</td>\n",
       "      <td>3.273459e-01</td>\n",
       "      <td>5.971390e-01</td>\n",
       "      <td>...</td>\n",
       "      <td>1.863772e-01</td>\n",
       "      <td>5.285536e-01</td>\n",
       "      <td>1.476421e-01</td>\n",
       "      <td>4.395266e-01</td>\n",
       "      <td>3.507156e-01</td>\n",
       "      <td>2.409522e-01</td>\n",
       "      <td>9.104512e-02</td>\n",
       "      <td>7.827995e-02</td>\n",
       "      <td>77.165000</td>\n",
       "      <td>0.000000</td>\n",
       "    </tr>\n",
       "    <tr>\n",
       "      <th>max</th>\n",
       "      <td>172792.000000</td>\n",
       "      <td>2.454930e+00</td>\n",
       "      <td>2.205773e+01</td>\n",
       "      <td>9.382558e+00</td>\n",
       "      <td>1.687534e+01</td>\n",
       "      <td>3.480167e+01</td>\n",
       "      <td>7.330163e+01</td>\n",
       "      <td>1.205895e+02</td>\n",
       "      <td>2.000721e+01</td>\n",
       "      <td>1.559499e+01</td>\n",
       "      <td>...</td>\n",
       "      <td>2.720284e+01</td>\n",
       "      <td>1.050309e+01</td>\n",
       "      <td>2.252841e+01</td>\n",
       "      <td>4.584549e+00</td>\n",
       "      <td>7.519589e+00</td>\n",
       "      <td>3.517346e+00</td>\n",
       "      <td>3.161220e+01</td>\n",
       "      <td>3.384781e+01</td>\n",
       "      <td>25691.160000</td>\n",
       "      <td>1.000000</td>\n",
       "    </tr>\n",
       "  </tbody>\n",
       "</table>\n",
       "<p>8 rows × 31 columns</p>\n",
       "</div>"
      ],
      "text/plain": [
       "                Time            V1            V2            V3            V4  \\\n",
       "count  284807.000000  2.848070e+05  2.848070e+05  2.848070e+05  2.848070e+05   \n",
       "mean    94813.859575  3.918649e-15  5.682686e-16 -8.761736e-15  2.811118e-15   \n",
       "std     47488.145955  1.958696e+00  1.651309e+00  1.516255e+00  1.415869e+00   \n",
       "min         0.000000 -5.640751e+01 -7.271573e+01 -4.832559e+01 -5.683171e+00   \n",
       "25%     54201.500000 -9.203734e-01 -5.985499e-01 -8.903648e-01 -8.486401e-01   \n",
       "50%     84692.000000  1.810880e-02  6.548556e-02  1.798463e-01 -1.984653e-02   \n",
       "75%    139320.500000  1.315642e+00  8.037239e-01  1.027196e+00  7.433413e-01   \n",
       "max    172792.000000  2.454930e+00  2.205773e+01  9.382558e+00  1.687534e+01   \n",
       "\n",
       "                 V5            V6            V7            V8            V9  \\\n",
       "count  2.848070e+05  2.848070e+05  2.848070e+05  2.848070e+05  2.848070e+05   \n",
       "mean  -1.552103e-15  2.040130e-15 -1.698953e-15 -1.893285e-16 -3.147640e-15   \n",
       "std    1.380247e+00  1.332271e+00  1.237094e+00  1.194353e+00  1.098632e+00   \n",
       "min   -1.137433e+02 -2.616051e+01 -4.355724e+01 -7.321672e+01 -1.343407e+01   \n",
       "25%   -6.915971e-01 -7.682956e-01 -5.540759e-01 -2.086297e-01 -6.430976e-01   \n",
       "50%   -5.433583e-02 -2.741871e-01  4.010308e-02  2.235804e-02 -5.142873e-02   \n",
       "75%    6.119264e-01  3.985649e-01  5.704361e-01  3.273459e-01  5.971390e-01   \n",
       "max    3.480167e+01  7.330163e+01  1.205895e+02  2.000721e+01  1.559499e+01   \n",
       "\n",
       "       ...           V21           V22           V23           V24  \\\n",
       "count  ...  2.848070e+05  2.848070e+05  2.848070e+05  2.848070e+05   \n",
       "mean   ...  1.473120e-16  8.042109e-16  5.282512e-16  4.456271e-15   \n",
       "std    ...  7.345240e-01  7.257016e-01  6.244603e-01  6.056471e-01   \n",
       "min    ... -3.483038e+01 -1.093314e+01 -4.480774e+01 -2.836627e+00   \n",
       "25%    ... -2.283949e-01 -5.423504e-01 -1.618463e-01 -3.545861e-01   \n",
       "50%    ... -2.945017e-02  6.781943e-03 -1.119293e-02  4.097606e-02   \n",
       "75%    ...  1.863772e-01  5.285536e-01  1.476421e-01  4.395266e-01   \n",
       "max    ...  2.720284e+01  1.050309e+01  2.252841e+01  4.584549e+00   \n",
       "\n",
       "                V25           V26           V27           V28         Amount  \\\n",
       "count  2.848070e+05  2.848070e+05  2.848070e+05  2.848070e+05  284807.000000   \n",
       "mean   1.426896e-15  1.701640e-15 -3.662252e-16 -1.217809e-16      88.349619   \n",
       "std    5.212781e-01  4.822270e-01  4.036325e-01  3.300833e-01     250.120109   \n",
       "min   -1.029540e+01 -2.604551e+00 -2.256568e+01 -1.543008e+01       0.000000   \n",
       "25%   -3.171451e-01 -3.269839e-01 -7.083953e-02 -5.295979e-02       5.600000   \n",
       "50%    1.659350e-02 -5.213911e-02  1.342146e-03  1.124383e-02      22.000000   \n",
       "75%    3.507156e-01  2.409522e-01  9.104512e-02  7.827995e-02      77.165000   \n",
       "max    7.519589e+00  3.517346e+00  3.161220e+01  3.384781e+01   25691.160000   \n",
       "\n",
       "               Class  \n",
       "count  284807.000000  \n",
       "mean        0.001727  \n",
       "std         0.041527  \n",
       "min         0.000000  \n",
       "25%         0.000000  \n",
       "50%         0.000000  \n",
       "75%         0.000000  \n",
       "max         1.000000  \n",
       "\n",
       "[8 rows x 31 columns]"
      ]
     },
     "execution_count": 8,
     "metadata": {},
     "output_type": "execute_result"
    }
   ],
   "source": [
    "data.describe() # Displays details of each column"
   ]
  },
  {
   "cell_type": "markdown",
   "id": "5aab1852",
   "metadata": {},
   "source": [
    "This line of code calculates the fraction of outliers (anomalies) in the data. The variable \"outlier_fraction\" is assigned the result of the calculation.  0 denotes non-fraudulent transaction and 1 denotes fraudulent transaction."
   ]
  },
  {
   "cell_type": "code",
   "execution_count": 9,
   "id": "4a43f73a",
   "metadata": {},
   "outputs": [],
   "source": [
    "# separating the data for analysis\n",
    "fraud = data[data['Class'] == 1] # Number of fraudulent transactions\n",
    "valid = data[data['Class'] == 0] # Number of valid transactions\n",
    "outlier_fraction = len(fraud)/float(len(valid))"
   ]
  },
  {
   "cell_type": "code",
   "execution_count": 10,
   "id": "c95d6730",
   "metadata": {},
   "outputs": [],
   "source": [
    "# statistical measures of the data"
   ]
  },
  {
   "cell_type": "code",
   "execution_count": 11,
   "id": "050d1519",
   "metadata": {},
   "outputs": [
    {
     "data": {
      "text/plain": [
       "count     492.000000\n",
       "mean      122.211321\n",
       "std       256.683288\n",
       "min         0.000000\n",
       "25%         1.000000\n",
       "50%         9.250000\n",
       "75%       105.890000\n",
       "max      2125.870000\n",
       "Name: Amount, dtype: float64"
      ]
     },
     "execution_count": 11,
     "metadata": {},
     "output_type": "execute_result"
    }
   ],
   "source": [
    "fraud.Amount.describe()"
   ]
  },
  {
   "cell_type": "code",
   "execution_count": 12,
   "id": "b9938433",
   "metadata": {},
   "outputs": [
    {
     "data": {
      "text/plain": [
       "count    284315.000000\n",
       "mean         88.291022\n",
       "std         250.105092\n",
       "min           0.000000\n",
       "25%           5.650000\n",
       "50%          22.000000\n",
       "75%          77.050000\n",
       "max       25691.160000\n",
       "Name: Amount, dtype: float64"
      ]
     },
     "execution_count": 12,
     "metadata": {},
     "output_type": "execute_result"
    }
   ],
   "source": [
    "valid.Amount.describe()"
   ]
  },
  {
   "cell_type": "code",
   "execution_count": 13,
   "id": "3a4b2056",
   "metadata": {},
   "outputs": [
    {
     "data": {
      "text/html": [
       "<div>\n",
       "<style scoped>\n",
       "    .dataframe tbody tr th:only-of-type {\n",
       "        vertical-align: middle;\n",
       "    }\n",
       "\n",
       "    .dataframe tbody tr th {\n",
       "        vertical-align: top;\n",
       "    }\n",
       "\n",
       "    .dataframe thead th {\n",
       "        text-align: right;\n",
       "    }\n",
       "</style>\n",
       "<table border=\"1\" class=\"dataframe\">\n",
       "  <thead>\n",
       "    <tr style=\"text-align: right;\">\n",
       "      <th></th>\n",
       "      <th>Time</th>\n",
       "      <th>V1</th>\n",
       "      <th>V2</th>\n",
       "      <th>V3</th>\n",
       "      <th>V4</th>\n",
       "      <th>V5</th>\n",
       "      <th>V6</th>\n",
       "      <th>V7</th>\n",
       "      <th>V8</th>\n",
       "      <th>V9</th>\n",
       "      <th>...</th>\n",
       "      <th>V20</th>\n",
       "      <th>V21</th>\n",
       "      <th>V22</th>\n",
       "      <th>V23</th>\n",
       "      <th>V24</th>\n",
       "      <th>V25</th>\n",
       "      <th>V26</th>\n",
       "      <th>V27</th>\n",
       "      <th>V28</th>\n",
       "      <th>Amount</th>\n",
       "    </tr>\n",
       "    <tr>\n",
       "      <th>Class</th>\n",
       "      <th></th>\n",
       "      <th></th>\n",
       "      <th></th>\n",
       "      <th></th>\n",
       "      <th></th>\n",
       "      <th></th>\n",
       "      <th></th>\n",
       "      <th></th>\n",
       "      <th></th>\n",
       "      <th></th>\n",
       "      <th></th>\n",
       "      <th></th>\n",
       "      <th></th>\n",
       "      <th></th>\n",
       "      <th></th>\n",
       "      <th></th>\n",
       "      <th></th>\n",
       "      <th></th>\n",
       "      <th></th>\n",
       "      <th></th>\n",
       "      <th></th>\n",
       "    </tr>\n",
       "  </thead>\n",
       "  <tbody>\n",
       "    <tr>\n",
       "      <th>0</th>\n",
       "      <td>94838.202258</td>\n",
       "      <td>0.008258</td>\n",
       "      <td>-0.006271</td>\n",
       "      <td>0.012171</td>\n",
       "      <td>-0.007860</td>\n",
       "      <td>0.005453</td>\n",
       "      <td>0.002419</td>\n",
       "      <td>0.009637</td>\n",
       "      <td>-0.000987</td>\n",
       "      <td>0.004467</td>\n",
       "      <td>...</td>\n",
       "      <td>-0.000644</td>\n",
       "      <td>-0.001235</td>\n",
       "      <td>-0.000024</td>\n",
       "      <td>0.000070</td>\n",
       "      <td>0.000182</td>\n",
       "      <td>-0.000072</td>\n",
       "      <td>-0.000089</td>\n",
       "      <td>-0.000295</td>\n",
       "      <td>-0.000131</td>\n",
       "      <td>88.291022</td>\n",
       "    </tr>\n",
       "    <tr>\n",
       "      <th>1</th>\n",
       "      <td>80746.806911</td>\n",
       "      <td>-4.771948</td>\n",
       "      <td>3.623778</td>\n",
       "      <td>-7.033281</td>\n",
       "      <td>4.542029</td>\n",
       "      <td>-3.151225</td>\n",
       "      <td>-1.397737</td>\n",
       "      <td>-5.568731</td>\n",
       "      <td>0.570636</td>\n",
       "      <td>-2.581123</td>\n",
       "      <td>...</td>\n",
       "      <td>0.372319</td>\n",
       "      <td>0.713588</td>\n",
       "      <td>0.014049</td>\n",
       "      <td>-0.040308</td>\n",
       "      <td>-0.105130</td>\n",
       "      <td>0.041449</td>\n",
       "      <td>0.051648</td>\n",
       "      <td>0.170575</td>\n",
       "      <td>0.075667</td>\n",
       "      <td>122.211321</td>\n",
       "    </tr>\n",
       "  </tbody>\n",
       "</table>\n",
       "<p>2 rows × 30 columns</p>\n",
       "</div>"
      ],
      "text/plain": [
       "               Time        V1        V2        V3        V4        V5  \\\n",
       "Class                                                                   \n",
       "0      94838.202258  0.008258 -0.006271  0.012171 -0.007860  0.005453   \n",
       "1      80746.806911 -4.771948  3.623778 -7.033281  4.542029 -3.151225   \n",
       "\n",
       "             V6        V7        V8        V9  ...       V20       V21  \\\n",
       "Class                                          ...                       \n",
       "0      0.002419  0.009637 -0.000987  0.004467  ... -0.000644 -0.001235   \n",
       "1     -1.397737 -5.568731  0.570636 -2.581123  ...  0.372319  0.713588   \n",
       "\n",
       "            V22       V23       V24       V25       V26       V27       V28  \\\n",
       "Class                                                                         \n",
       "0     -0.000024  0.000070  0.000182 -0.000072 -0.000089 -0.000295 -0.000131   \n",
       "1      0.014049 -0.040308 -0.105130  0.041449  0.051648  0.170575  0.075667   \n",
       "\n",
       "           Amount  \n",
       "Class              \n",
       "0       88.291022  \n",
       "1      122.211321  \n",
       "\n",
       "[2 rows x 30 columns]"
      ]
     },
     "execution_count": 13,
     "metadata": {},
     "output_type": "execute_result"
    }
   ],
   "source": [
    "# compare the values for both transactions\n",
    "data.groupby('Class').mean()"
   ]
  },
  {
   "cell_type": "code",
   "execution_count": 14,
   "id": "b88c7999",
   "metadata": {},
   "outputs": [
    {
     "data": {
      "text/plain": [
       "<AxesSubplot:>"
      ]
     },
     "execution_count": 14,
     "metadata": {},
     "output_type": "execute_result"
    },
    {
     "data": {
      "image/png": "[encoded data removed]",
      "text/plain": [
       "<Figure size 864x576 with 2 Axes>"
      ]
     },
     "metadata": {
      "needs_background": "light"
     },
     "output_type": "display_data"
    }
   ],
   "source": [
    "plt.figure(figsize=(12,8))\n",
    "sns.heatmap(data.corr()) # Heatmap of correlation between columns of data."
   ]
  },
  {
   "cell_type": "markdown",
   "id": "f8d0a24c",
   "metadata": {},
   "source": [
    "this code is creating two new variables, X and y, for use in machine learning by removing 'Class' column from the original data DataFrame and creating a new DataFrame X, and selecting 'Class' column from the original data DataFrame and creating a new variable y. X will be used as input variable and y will be used as output variable."
   ]
  },
  {
   "cell_type": "code",
   "execution_count": 15,
   "id": "815003a0",
   "metadata": {},
   "outputs": [],
   "source": [
    "X = data.drop('Class',axis = 1) # X is input\n",
    "y = data['Class'] # y is output"
   ]
  },
  {
   "cell_type": "markdown",
   "id": "7e40e2cb",
   "metadata": {},
   "source": [
    "The first line is creating an instance of the IsolationForest class and setting its parameters. The max_samples parameter is set to the number of samples in the input data (X) and the contamination parameter is set to the outlier_fraction calculated earlier. The fit() function is then used to fit the model to the input data (X.values).\n",
    "The next line uses the predict() function to make predictions on the input data (X.values) using the trained model. The resulting predictions are stored in the variable y_prediction2.\n",
    "\n",
    "The following two lines of code are used to convert the predictions, which are originally in the form of -1 for anomalous observations and 1 for non-anomalous observations, into 0 and 1 respectively. This is done by replacing all occurrences of -1 in the y_prediction2 variable with 1, and all occurrences of 1 with 0.\n",
    "The next line calculates the total number of errors in the predictions by comparing y_prediction2 with the true labels (y) and summing the number of instances where they are different."
   ]
  },
  {
   "cell_type": "code",
   "execution_count": 16,
   "id": "84fa9a16",
   "metadata": {},
   "outputs": [
    {
     "name": "stdout",
     "output_type": "stream",
     "text": [
      "717\n",
      "0.9974825056968403\n",
      "              precision    recall  f1-score   support\n",
      "\n",
      "           0       1.00      1.00      1.00    284314\n",
      "           1       0.27      0.27      0.27       493\n",
      "\n",
      "    accuracy                           1.00    284807\n",
      "   macro avg       0.64      0.64      0.64    284807\n",
      "weighted avg       1.00      1.00      1.00    284807\n",
      "\n"
     ]
    }
   ],
   "source": [
    "b = IsolationForest(max_samples = len(X),contamination = outlier_fraction).fit(X.values) # Fitting the model.\n",
    "y_prediction2 = b.predict(X.values) # Prediction using trained model.\n",
    "y_prediction2[y_prediction2 == 1] = 0 # Valid transactions are labelled as 0.\n",
    "y_prediction2[y_prediction2 == -1] = 1 # Fraudulent transactions are labelled as 1.\n",
    "errors2 = (y_prediction2 != y).sum() # Total number of errors is calculated.\n",
    "print(errors2)\n",
    "print(accuracy_score(y_prediction2,y))\n",
    "print(classification_report(y_prediction2,y))"
   ]
  },
  {
   "cell_type": "markdown",
   "id": "cf5eb0ad",
   "metadata": {},
   "source": [
    "the accuracy_score() and classification_report() functions from sklearn.metrics library to evaluate the performance of the model. The accuracy_score() function calculates the accuracy of the predictions, and classification_report() function provides a detailed report of various evaluation metrics such as precision, recall and f1-score"
   ]
  },
  {
   "cell_type": "markdown",
   "id": "d81088b3",
   "metadata": {},
   "source": [
    "sample cannot be larger than orginal sample"
   ]
  },
  {
   "cell_type": "code",
   "execution_count": 17,
   "id": "8c1716f5",
   "metadata": {},
   "outputs": [
    {
     "data": {
      "text/plain": [
       "0.196"
      ]
     },
     "execution_count": 17,
     "metadata": {},
     "output_type": "execute_result"
    }
   ],
   "source": [
    "valid_sample = valid.sample(n=2500) #accuracy depends on sample number if it is a small number its f1-score is decreasing \n",
    "fraud_sample = fraud.sample(n=490)\n",
    "outlier_fraction2 = len(fraud_sample)/float((len(valid_sample))) #new fraction accoriding to new data set without this acc is 50\n",
    "outlier_fraction2"
   ]
  },
  {
   "cell_type": "code",
   "execution_count": 18,
   "id": "b2516d9f",
   "metadata": {},
   "outputs": [],
   "source": [
    "new_dataset = pd.concat([valid_sample, fraud_sample], axis=0)"
   ]
  },
  {
   "cell_type": "code",
   "execution_count": 19,
   "id": "6b8074a5",
   "metadata": {},
   "outputs": [
    {
     "data": {
      "text/html": [
       "<div>\n",
       "<style scoped>\n",
       "    .dataframe tbody tr th:only-of-type {\n",
       "        vertical-align: middle;\n",
       "    }\n",
       "\n",
       "    .dataframe tbody tr th {\n",
       "        vertical-align: top;\n",
       "    }\n",
       "\n",
       "    .dataframe thead th {\n",
       "        text-align: right;\n",
       "    }\n",
       "</style>\n",
       "<table border=\"1\" class=\"dataframe\">\n",
       "  <thead>\n",
       "    <tr style=\"text-align: right;\">\n",
       "      <th></th>\n",
       "      <th>Time</th>\n",
       "      <th>V1</th>\n",
       "      <th>V2</th>\n",
       "      <th>V3</th>\n",
       "      <th>V4</th>\n",
       "      <th>V5</th>\n",
       "      <th>V6</th>\n",
       "      <th>V7</th>\n",
       "      <th>V8</th>\n",
       "      <th>V9</th>\n",
       "      <th>...</th>\n",
       "      <th>V21</th>\n",
       "      <th>V22</th>\n",
       "      <th>V23</th>\n",
       "      <th>V24</th>\n",
       "      <th>V25</th>\n",
       "      <th>V26</th>\n",
       "      <th>V27</th>\n",
       "      <th>V28</th>\n",
       "      <th>Amount</th>\n",
       "      <th>Class</th>\n",
       "    </tr>\n",
       "  </thead>\n",
       "  <tbody>\n",
       "    <tr>\n",
       "      <th>28112</th>\n",
       "      <td>34861.0</td>\n",
       "      <td>-0.530563</td>\n",
       "      <td>0.554168</td>\n",
       "      <td>1.399785</td>\n",
       "      <td>1.345180</td>\n",
       "      <td>-0.136712</td>\n",
       "      <td>0.297732</td>\n",
       "      <td>1.232241</td>\n",
       "      <td>-0.108022</td>\n",
       "      <td>-0.074691</td>\n",
       "      <td>...</td>\n",
       "      <td>-0.018308</td>\n",
       "      <td>0.218643</td>\n",
       "      <td>0.131979</td>\n",
       "      <td>0.059563</td>\n",
       "      <td>-0.090878</td>\n",
       "      <td>-0.253535</td>\n",
       "      <td>0.214344</td>\n",
       "      <td>-0.010966</td>\n",
       "      <td>143.50</td>\n",
       "      <td>0</td>\n",
       "    </tr>\n",
       "    <tr>\n",
       "      <th>224797</th>\n",
       "      <td>143965.0</td>\n",
       "      <td>-0.442673</td>\n",
       "      <td>1.765596</td>\n",
       "      <td>-0.016810</td>\n",
       "      <td>2.831719</td>\n",
       "      <td>1.097579</td>\n",
       "      <td>0.299475</td>\n",
       "      <td>0.694397</td>\n",
       "      <td>0.398457</td>\n",
       "      <td>-2.367363</td>\n",
       "      <td>...</td>\n",
       "      <td>0.512347</td>\n",
       "      <td>1.285537</td>\n",
       "      <td>0.064302</td>\n",
       "      <td>0.778239</td>\n",
       "      <td>-0.955167</td>\n",
       "      <td>-0.063173</td>\n",
       "      <td>-0.013598</td>\n",
       "      <td>0.193373</td>\n",
       "      <td>6.05</td>\n",
       "      <td>0</td>\n",
       "    </tr>\n",
       "    <tr>\n",
       "      <th>212269</th>\n",
       "      <td>138792.0</td>\n",
       "      <td>1.588571</td>\n",
       "      <td>-1.696918</td>\n",
       "      <td>0.335119</td>\n",
       "      <td>0.084981</td>\n",
       "      <td>-2.062318</td>\n",
       "      <td>-0.350620</td>\n",
       "      <td>-1.148426</td>\n",
       "      <td>-0.019831</td>\n",
       "      <td>0.537653</td>\n",
       "      <td>...</td>\n",
       "      <td>0.059177</td>\n",
       "      <td>0.403186</td>\n",
       "      <td>0.136031</td>\n",
       "      <td>0.399681</td>\n",
       "      <td>-0.597850</td>\n",
       "      <td>-0.317762</td>\n",
       "      <td>0.066191</td>\n",
       "      <td>0.026155</td>\n",
       "      <td>229.77</td>\n",
       "      <td>0</td>\n",
       "    </tr>\n",
       "    <tr>\n",
       "      <th>22521</th>\n",
       "      <td>32289.0</td>\n",
       "      <td>-0.686470</td>\n",
       "      <td>-0.477711</td>\n",
       "      <td>1.476276</td>\n",
       "      <td>-1.651517</td>\n",
       "      <td>0.065466</td>\n",
       "      <td>-0.104575</td>\n",
       "      <td>-0.286796</td>\n",
       "      <td>0.344369</td>\n",
       "      <td>-0.923468</td>\n",
       "      <td>...</td>\n",
       "      <td>0.151912</td>\n",
       "      <td>0.250200</td>\n",
       "      <td>-0.092994</td>\n",
       "      <td>-0.333497</td>\n",
       "      <td>-0.107280</td>\n",
       "      <td>-0.388544</td>\n",
       "      <td>0.090906</td>\n",
       "      <td>0.107186</td>\n",
       "      <td>15.00</td>\n",
       "      <td>0</td>\n",
       "    </tr>\n",
       "    <tr>\n",
       "      <th>1624</th>\n",
       "      <td>1260.0</td>\n",
       "      <td>-2.901810</td>\n",
       "      <td>2.243040</td>\n",
       "      <td>1.240417</td>\n",
       "      <td>-0.493757</td>\n",
       "      <td>-0.416691</td>\n",
       "      <td>2.466447</td>\n",
       "      <td>-2.139862</td>\n",
       "      <td>-4.738845</td>\n",
       "      <td>0.616180</td>\n",
       "      <td>...</td>\n",
       "      <td>5.259325</td>\n",
       "      <td>-1.794220</td>\n",
       "      <td>0.395506</td>\n",
       "      <td>-1.202096</td>\n",
       "      <td>0.396541</td>\n",
       "      <td>0.456621</td>\n",
       "      <td>0.154083</td>\n",
       "      <td>-0.145511</td>\n",
       "      <td>17.74</td>\n",
       "      <td>0</td>\n",
       "    </tr>\n",
       "  </tbody>\n",
       "</table>\n",
       "<p>5 rows × 31 columns</p>\n",
       "</div>"
      ],
      "text/plain": [
       "            Time        V1        V2        V3        V4        V5        V6  \\\n",
       "28112    34861.0 -0.530563  0.554168  1.399785  1.345180 -0.136712  0.297732   \n",
       "224797  143965.0 -0.442673  1.765596 -0.016810  2.831719  1.097579  0.299475   \n",
       "212269  138792.0  1.588571 -1.696918  0.335119  0.084981 -2.062318 -0.350620   \n",
       "22521    32289.0 -0.686470 -0.477711  1.476276 -1.651517  0.065466 -0.104575   \n",
       "1624      1260.0 -2.901810  2.243040  1.240417 -0.493757 -0.416691  2.466447   \n",
       "\n",
       "              V7        V8        V9  ...       V21       V22       V23  \\\n",
       "28112   1.232241 -0.108022 -0.074691  ... -0.018308  0.218643  0.131979   \n",
       "224797  0.694397  0.398457 -2.367363  ...  0.512347  1.285537  0.064302   \n",
       "212269 -1.148426 -0.019831  0.537653  ...  0.059177  0.403186  0.136031   \n",
       "22521  -0.286796  0.344369 -0.923468  ...  0.151912  0.250200 -0.092994   \n",
       "1624   -2.139862 -4.738845  0.616180  ...  5.259325 -1.794220  0.395506   \n",
       "\n",
       "             V24       V25       V26       V27       V28  Amount  Class  \n",
       "28112   0.059563 -0.090878 -0.253535  0.214344 -0.010966  143.50      0  \n",
       "224797  0.778239 -0.955167 -0.063173 -0.013598  0.193373    6.05      0  \n",
       "212269  0.399681 -0.597850 -0.317762  0.066191  0.026155  229.77      0  \n",
       "22521  -0.333497 -0.107280 -0.388544  0.090906  0.107186   15.00      0  \n",
       "1624   -1.202096  0.396541  0.456621  0.154083 -0.145511   17.74      0  \n",
       "\n",
       "[5 rows x 31 columns]"
      ]
     },
     "execution_count": 19,
     "metadata": {},
     "output_type": "execute_result"
    }
   ],
   "source": [
    "new_dataset.head()"
   ]
  },
  {
   "cell_type": "code",
   "execution_count": 20,
   "id": "e7117723",
   "metadata": {},
   "outputs": [
    {
     "data": {
      "text/html": [
       "<div>\n",
       "<style scoped>\n",
       "    .dataframe tbody tr th:only-of-type {\n",
       "        vertical-align: middle;\n",
       "    }\n",
       "\n",
       "    .dataframe tbody tr th {\n",
       "        vertical-align: top;\n",
       "    }\n",
       "\n",
       "    .dataframe thead th {\n",
       "        text-align: right;\n",
       "    }\n",
       "</style>\n",
       "<table border=\"1\" class=\"dataframe\">\n",
       "  <thead>\n",
       "    <tr style=\"text-align: right;\">\n",
       "      <th></th>\n",
       "      <th>Time</th>\n",
       "      <th>V1</th>\n",
       "      <th>V2</th>\n",
       "      <th>V3</th>\n",
       "      <th>V4</th>\n",
       "      <th>V5</th>\n",
       "      <th>V6</th>\n",
       "      <th>V7</th>\n",
       "      <th>V8</th>\n",
       "      <th>V9</th>\n",
       "      <th>...</th>\n",
       "      <th>V20</th>\n",
       "      <th>V21</th>\n",
       "      <th>V22</th>\n",
       "      <th>V23</th>\n",
       "      <th>V24</th>\n",
       "      <th>V25</th>\n",
       "      <th>V26</th>\n",
       "      <th>V27</th>\n",
       "      <th>V28</th>\n",
       "      <th>Amount</th>\n",
       "    </tr>\n",
       "    <tr>\n",
       "      <th>Class</th>\n",
       "      <th></th>\n",
       "      <th></th>\n",
       "      <th></th>\n",
       "      <th></th>\n",
       "      <th></th>\n",
       "      <th></th>\n",
       "      <th></th>\n",
       "      <th></th>\n",
       "      <th></th>\n",
       "      <th></th>\n",
       "      <th></th>\n",
       "      <th></th>\n",
       "      <th></th>\n",
       "      <th></th>\n",
       "      <th></th>\n",
       "      <th></th>\n",
       "      <th></th>\n",
       "      <th></th>\n",
       "      <th></th>\n",
       "      <th></th>\n",
       "      <th></th>\n",
       "    </tr>\n",
       "  </thead>\n",
       "  <tbody>\n",
       "    <tr>\n",
       "      <th>0</th>\n",
       "      <td>93544.15160</td>\n",
       "      <td>0.019966</td>\n",
       "      <td>0.079647</td>\n",
       "      <td>0.023022</td>\n",
       "      <td>0.001326</td>\n",
       "      <td>0.041351</td>\n",
       "      <td>-0.025724</td>\n",
       "      <td>0.010557</td>\n",
       "      <td>-0.026844</td>\n",
       "      <td>0.022011</td>\n",
       "      <td>...</td>\n",
       "      <td>0.002041</td>\n",
       "      <td>-0.001881</td>\n",
       "      <td>0.009775</td>\n",
       "      <td>0.004390</td>\n",
       "      <td>-0.000146</td>\n",
       "      <td>0.003499</td>\n",
       "      <td>-0.022725</td>\n",
       "      <td>-0.007348</td>\n",
       "      <td>-0.001027</td>\n",
       "      <td>78.150444</td>\n",
       "    </tr>\n",
       "    <tr>\n",
       "      <th>1</th>\n",
       "      <td>80800.92449</td>\n",
       "      <td>-4.761934</td>\n",
       "      <td>3.615617</td>\n",
       "      <td>-7.014842</td>\n",
       "      <td>4.530689</td>\n",
       "      <td>-3.131266</td>\n",
       "      <td>-1.389829</td>\n",
       "      <td>-5.542449</td>\n",
       "      <td>0.552560</td>\n",
       "      <td>-2.572592</td>\n",
       "      <td>...</td>\n",
       "      <td>0.372333</td>\n",
       "      <td>0.706694</td>\n",
       "      <td>0.012563</td>\n",
       "      <td>-0.038191</td>\n",
       "      <td>-0.107484</td>\n",
       "      <td>0.040588</td>\n",
       "      <td>0.051896</td>\n",
       "      <td>0.170069</td>\n",
       "      <td>0.075111</td>\n",
       "      <td>122.543224</td>\n",
       "    </tr>\n",
       "  </tbody>\n",
       "</table>\n",
       "<p>2 rows × 30 columns</p>\n",
       "</div>"
      ],
      "text/plain": [
       "              Time        V1        V2        V3        V4        V5  \\\n",
       "Class                                                                  \n",
       "0      93544.15160  0.019966  0.079647  0.023022  0.001326  0.041351   \n",
       "1      80800.92449 -4.761934  3.615617 -7.014842  4.530689 -3.131266   \n",
       "\n",
       "             V6        V7        V8        V9  ...       V20       V21  \\\n",
       "Class                                          ...                       \n",
       "0     -0.025724  0.010557 -0.026844  0.022011  ...  0.002041 -0.001881   \n",
       "1     -1.389829 -5.542449  0.552560 -2.572592  ...  0.372333  0.706694   \n",
       "\n",
       "            V22       V23       V24       V25       V26       V27       V28  \\\n",
       "Class                                                                         \n",
       "0      0.009775  0.004390 -0.000146  0.003499 -0.022725 -0.007348 -0.001027   \n",
       "1      0.012563 -0.038191 -0.107484  0.040588  0.051896  0.170069  0.075111   \n",
       "\n",
       "           Amount  \n",
       "Class              \n",
       "0       78.150444  \n",
       "1      122.543224  \n",
       "\n",
       "[2 rows x 30 columns]"
      ]
     },
     "execution_count": 20,
     "metadata": {},
     "output_type": "execute_result"
    }
   ],
   "source": [
    "new_dataset.groupby('Class').mean()"
   ]
  },
  {
   "cell_type": "code",
   "execution_count": 21,
   "id": "e9c00838",
   "metadata": {},
   "outputs": [
    {
     "data": {
      "text/plain": [
       "0    2500\n",
       "1     490\n",
       "Name: Class, dtype: int64"
      ]
     },
     "execution_count": 21,
     "metadata": {},
     "output_type": "execute_result"
    }
   ],
   "source": [
    "new_dataset['Class'].value_counts()"
   ]
  },
  {
   "cell_type": "code",
   "execution_count": 22,
   "id": "e24db6a0",
   "metadata": {},
   "outputs": [],
   "source": [
    "X2 = new_dataset.drop('Class',axis = 1) # X is input\n",
    "y2 = new_dataset['Class'] # y is output"
   ]
  },
  {
   "cell_type": "code",
   "execution_count": 23,
   "id": "ce99bfa5",
   "metadata": {},
   "outputs": [
    {
     "name": "stdout",
     "output_type": "stream",
     "text": [
      "298\n",
      "0.9003344481605351\n",
      "              precision    recall  f1-score   support\n",
      "\n",
      "           0       0.92      0.96      0.94      2404\n",
      "           1       0.79      0.66      0.72       586\n",
      "\n",
      "    accuracy                           0.90      2990\n",
      "   macro avg       0.86      0.81      0.83      2990\n",
      "weighted avg       0.90      0.90      0.90      2990\n",
      "\n"
     ]
    }
   ],
   "source": [
    "b2 = IsolationForest(max_samples = len(X2),contamination = outlier_fraction2).fit(X2.values) # Fitting the model.\n",
    "y_prediction3 = b2.predict(X2.values) # Prediction using trained model.\n",
    "y_prediction3[y_prediction3 == 1] = 0 # Valid transactions are labelled as 0.\n",
    "y_prediction3[y_prediction3 == -1] = 1 # Fraudulent transactions are labelled as 1.\n",
    "errors3 = (y_prediction3 != y2).sum() # Total number of errors is calculated.\n",
    "print(errors3)\n",
    "print(accuracy_score(y_prediction3,y2))\n",
    "print(classification_report(y_prediction3,y2))"
   ]
  },
  {
   "cell_type": "code",
   "execution_count": null,
   "id": "0fe8b6b9",
   "metadata": {},
   "outputs": [],
   "source": []
  },
  {
   "cell_type": "code",
   "execution_count": null,
   "id": "5798b3f7",
   "metadata": {},
   "outputs": [],
   "source": []
  }
 ],
 "metadata": {
  "kernelspec": {
   "display_name": "Python 3 (ipykernel)",
   "language": "python",
   "name": "python3"
  },
  "language_info": {
   "codemirror_mode": {
    "name": "ipython",
    "version": 3
   },
   "file_extension": ".py",
   "mimetype": "text/x-python",
   "name": "python",
   "nbconvert_exporter": "python",
   "pygments_lexer": "ipython3",
   "version": "3.9.5"
  }
 },
 "nbformat": 4,
 "nbformat_minor": 5
}
